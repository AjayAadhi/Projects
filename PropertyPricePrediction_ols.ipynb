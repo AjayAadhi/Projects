{
 "cells": [
  {
   "cell_type": "markdown",
   "id": "8f940b8e",
   "metadata": {},
   "source": [
    "# Problem Statement"
   ]
  },
  {
   "cell_type": "markdown",
   "id": "1d0ccf67",
   "metadata": {},
   "source": [
    "### Use regression analysis to predict the price of a property"
   ]
  },
  {
   "cell_type": "code",
   "execution_count": 288,
   "id": "090d0298",
   "metadata": {},
   "outputs": [],
   "source": [
    "#importing the libraries\n",
    "import numpy as np\n",
    "import pandas as pd\n",
    "import seaborn as sns\n",
    "import matplotlib.pyplot as plt\n",
    "from sklearn.preprocessing import OneHotEncoder\n",
    "from sklearn.compose import ColumnTransformer\n",
    "from sklearn import metrics\n",
    "from sklearn.linear_model import LinearRegression\n",
    "from sklearn.ensemble import RandomForestRegressor\n",
    "from sklearn.model_selection import train_test_split\n",
    "import warnings\n",
    "warnings.filterwarnings('ignore')"
   ]
  },
  {
   "cell_type": "code",
   "execution_count": 289,
   "id": "3732ad3d",
   "metadata": {},
   "outputs": [],
   "source": [
    "#reading the dataset\n",
    "data = pd.read_csv('E:\\Imarticus\\Datasets\\ProjectonPropertyPricePrediction\\Dataset/HousePrices.csv')"
   ]
  },
  {
   "cell_type": "code",
   "execution_count": 290,
   "id": "ef01a2e6",
   "metadata": {},
   "outputs": [],
   "source": [
    "df = pd.DataFrame(data)"
   ]
  },
  {
   "cell_type": "code",
   "execution_count": 291,
   "id": "221e9dd7",
   "metadata": {},
   "outputs": [
    {
     "data": {
      "text/html": [
       "<div>\n",
       "<style scoped>\n",
       "    .dataframe tbody tr th:only-of-type {\n",
       "        vertical-align: middle;\n",
       "    }\n",
       "\n",
       "    .dataframe tbody tr th {\n",
       "        vertical-align: top;\n",
       "    }\n",
       "\n",
       "    .dataframe thead th {\n",
       "        text-align: right;\n",
       "    }\n",
       "</style>\n",
       "<table border=\"1\" class=\"dataframe\">\n",
       "  <thead>\n",
       "    <tr style=\"text-align: right;\">\n",
       "      <th></th>\n",
       "      <th>Id</th>\n",
       "      <th>Dwell_Type</th>\n",
       "      <th>Zone_Class</th>\n",
       "      <th>LotFrontage</th>\n",
       "      <th>LotArea</th>\n",
       "      <th>Road_Type</th>\n",
       "      <th>Alley</th>\n",
       "      <th>Property_Shape</th>\n",
       "      <th>LandContour</th>\n",
       "      <th>Utilities</th>\n",
       "      <th>...</th>\n",
       "      <th>PoolArea</th>\n",
       "      <th>PoolQC</th>\n",
       "      <th>Fence</th>\n",
       "      <th>MiscFeature</th>\n",
       "      <th>MiscVal</th>\n",
       "      <th>MoSold</th>\n",
       "      <th>YrSold</th>\n",
       "      <th>SaleType</th>\n",
       "      <th>SaleCondition</th>\n",
       "      <th>Property_Sale_Price</th>\n",
       "    </tr>\n",
       "  </thead>\n",
       "  <tbody>\n",
       "    <tr>\n",
       "      <th>0</th>\n",
       "      <td>1</td>\n",
       "      <td>60</td>\n",
       "      <td>RL</td>\n",
       "      <td>65.0</td>\n",
       "      <td>8450</td>\n",
       "      <td>Pave</td>\n",
       "      <td>NaN</td>\n",
       "      <td>Reg</td>\n",
       "      <td>Lvl</td>\n",
       "      <td>AllPub</td>\n",
       "      <td>...</td>\n",
       "      <td>0</td>\n",
       "      <td>NaN</td>\n",
       "      <td>NaN</td>\n",
       "      <td>NaN</td>\n",
       "      <td>0</td>\n",
       "      <td>2</td>\n",
       "      <td>2008</td>\n",
       "      <td>WD</td>\n",
       "      <td>Normal</td>\n",
       "      <td>208500</td>\n",
       "    </tr>\n",
       "    <tr>\n",
       "      <th>1</th>\n",
       "      <td>2</td>\n",
       "      <td>20</td>\n",
       "      <td>RL</td>\n",
       "      <td>80.0</td>\n",
       "      <td>9600</td>\n",
       "      <td>Pave</td>\n",
       "      <td>NaN</td>\n",
       "      <td>Reg</td>\n",
       "      <td>Lvl</td>\n",
       "      <td>AllPub</td>\n",
       "      <td>...</td>\n",
       "      <td>0</td>\n",
       "      <td>NaN</td>\n",
       "      <td>NaN</td>\n",
       "      <td>NaN</td>\n",
       "      <td>0</td>\n",
       "      <td>5</td>\n",
       "      <td>2007</td>\n",
       "      <td>WD</td>\n",
       "      <td>Normal</td>\n",
       "      <td>181500</td>\n",
       "    </tr>\n",
       "    <tr>\n",
       "      <th>2</th>\n",
       "      <td>3</td>\n",
       "      <td>60</td>\n",
       "      <td>RL</td>\n",
       "      <td>68.0</td>\n",
       "      <td>11250</td>\n",
       "      <td>Pave</td>\n",
       "      <td>NaN</td>\n",
       "      <td>IR1</td>\n",
       "      <td>Lvl</td>\n",
       "      <td>AllPub</td>\n",
       "      <td>...</td>\n",
       "      <td>0</td>\n",
       "      <td>NaN</td>\n",
       "      <td>NaN</td>\n",
       "      <td>NaN</td>\n",
       "      <td>0</td>\n",
       "      <td>9</td>\n",
       "      <td>2008</td>\n",
       "      <td>WD</td>\n",
       "      <td>Normal</td>\n",
       "      <td>223500</td>\n",
       "    </tr>\n",
       "    <tr>\n",
       "      <th>3</th>\n",
       "      <td>4</td>\n",
       "      <td>70</td>\n",
       "      <td>RL</td>\n",
       "      <td>60.0</td>\n",
       "      <td>9550</td>\n",
       "      <td>Pave</td>\n",
       "      <td>NaN</td>\n",
       "      <td>IR1</td>\n",
       "      <td>Lvl</td>\n",
       "      <td>AllPub</td>\n",
       "      <td>...</td>\n",
       "      <td>0</td>\n",
       "      <td>NaN</td>\n",
       "      <td>NaN</td>\n",
       "      <td>NaN</td>\n",
       "      <td>0</td>\n",
       "      <td>2</td>\n",
       "      <td>2006</td>\n",
       "      <td>WD</td>\n",
       "      <td>Abnorml</td>\n",
       "      <td>140000</td>\n",
       "    </tr>\n",
       "    <tr>\n",
       "      <th>4</th>\n",
       "      <td>5</td>\n",
       "      <td>60</td>\n",
       "      <td>RL</td>\n",
       "      <td>84.0</td>\n",
       "      <td>14260</td>\n",
       "      <td>Pave</td>\n",
       "      <td>NaN</td>\n",
       "      <td>IR1</td>\n",
       "      <td>Lvl</td>\n",
       "      <td>AllPub</td>\n",
       "      <td>...</td>\n",
       "      <td>0</td>\n",
       "      <td>NaN</td>\n",
       "      <td>NaN</td>\n",
       "      <td>NaN</td>\n",
       "      <td>0</td>\n",
       "      <td>12</td>\n",
       "      <td>2008</td>\n",
       "      <td>WD</td>\n",
       "      <td>Normal</td>\n",
       "      <td>250000</td>\n",
       "    </tr>\n",
       "  </tbody>\n",
       "</table>\n",
       "<p>5 rows × 81 columns</p>\n",
       "</div>"
      ],
      "text/plain": [
       "   Id  Dwell_Type Zone_Class  LotFrontage  LotArea Road_Type Alley  \\\n",
       "0   1          60         RL         65.0     8450      Pave   NaN   \n",
       "1   2          20         RL         80.0     9600      Pave   NaN   \n",
       "2   3          60         RL         68.0    11250      Pave   NaN   \n",
       "3   4          70         RL         60.0     9550      Pave   NaN   \n",
       "4   5          60         RL         84.0    14260      Pave   NaN   \n",
       "\n",
       "  Property_Shape LandContour Utilities  ... PoolArea PoolQC Fence MiscFeature  \\\n",
       "0            Reg         Lvl    AllPub  ...        0    NaN   NaN         NaN   \n",
       "1            Reg         Lvl    AllPub  ...        0    NaN   NaN         NaN   \n",
       "2            IR1         Lvl    AllPub  ...        0    NaN   NaN         NaN   \n",
       "3            IR1         Lvl    AllPub  ...        0    NaN   NaN         NaN   \n",
       "4            IR1         Lvl    AllPub  ...        0    NaN   NaN         NaN   \n",
       "\n",
       "  MiscVal MoSold YrSold  SaleType  SaleCondition  Property_Sale_Price  \n",
       "0       0      2   2008        WD         Normal               208500  \n",
       "1       0      5   2007        WD         Normal               181500  \n",
       "2       0      9   2008        WD         Normal               223500  \n",
       "3       0      2   2006        WD        Abnorml               140000  \n",
       "4       0     12   2008        WD         Normal               250000  \n",
       "\n",
       "[5 rows x 81 columns]"
      ]
     },
     "execution_count": 291,
     "metadata": {},
     "output_type": "execute_result"
    }
   ],
   "source": [
    "df.head(5) # shows the first five data points"
   ]
  },
  {
   "cell_type": "code",
   "execution_count": 292,
   "id": "2734d09d",
   "metadata": {},
   "outputs": [
    {
     "name": "stdout",
     "output_type": "stream",
     "text": [
      "<class 'pandas.core.frame.DataFrame'>\n",
      "RangeIndex: 2073 entries, 0 to 2072\n",
      "Data columns (total 81 columns):\n",
      " #   Column               Non-Null Count  Dtype  \n",
      "---  ------               --------------  -----  \n",
      " 0   Id                   2073 non-null   int64  \n",
      " 1   Dwell_Type           2073 non-null   int64  \n",
      " 2   Zone_Class           2073 non-null   object \n",
      " 3   LotFrontage          1753 non-null   float64\n",
      " 4   LotArea              2073 non-null   int64  \n",
      " 5   Road_Type            2073 non-null   object \n",
      " 6   Alley                129 non-null    object \n",
      " 7   Property_Shape       2073 non-null   object \n",
      " 8   LandContour          2073 non-null   object \n",
      " 9   Utilities            2073 non-null   object \n",
      " 10  LotConfig            2073 non-null   object \n",
      " 11  LandSlope            2073 non-null   object \n",
      " 12  Neighborhood         2073 non-null   object \n",
      " 13  Condition1           2073 non-null   object \n",
      " 14  Condition2           2073 non-null   object \n",
      " 15  Dwelling_Type        2073 non-null   object \n",
      " 16  HouseStyle           2073 non-null   object \n",
      " 17  OverallQual          2073 non-null   int64  \n",
      " 18  OverallCond          2073 non-null   int64  \n",
      " 19  YearBuilt            2073 non-null   int64  \n",
      " 20  YearRemodAdd         2073 non-null   int64  \n",
      " 21  RoofStyle            2073 non-null   object \n",
      " 22  RoofMatl             2073 non-null   object \n",
      " 23  Exterior1st          2073 non-null   object \n",
      " 24  Exterior2nd          2073 non-null   object \n",
      " 25  MasVnrType           2059 non-null   object \n",
      " 26  MasVnrArea           2059 non-null   float64\n",
      " 27  ExterQual            2073 non-null   object \n",
      " 28  ExterCond            2073 non-null   object \n",
      " 29  Foundation           2073 non-null   object \n",
      " 30  BsmtQual             2014 non-null   object \n",
      " 31  BsmtCond             2014 non-null   object \n",
      " 32  BsmtExposure         2012 non-null   object \n",
      " 33  BsmtFinType1         2014 non-null   object \n",
      " 34  BsmtFinSF1           2073 non-null   int64  \n",
      " 35  BsmtFinType2         2013 non-null   object \n",
      " 36  BsmtFinSF2           2073 non-null   int64  \n",
      " 37  BsmtUnfSF            2073 non-null   int64  \n",
      " 38  TotalBsmtSF          2073 non-null   int64  \n",
      " 39  Heating              2073 non-null   object \n",
      " 40  HeatingQC            2073 non-null   object \n",
      " 41  CentralAir           2073 non-null   object \n",
      " 42  Electrical           2072 non-null   object \n",
      " 43  1stFlrSF             2073 non-null   int64  \n",
      " 44  2ndFlrSF             2073 non-null   int64  \n",
      " 45  LowQualFinSF         2073 non-null   int64  \n",
      " 46  GrLivArea            2073 non-null   int64  \n",
      " 47  BsmtFullBath         2073 non-null   int64  \n",
      " 48  BsmtHalfBath         2073 non-null   int64  \n",
      " 49  FullBath             2073 non-null   int64  \n",
      " 50  HalfBath             2073 non-null   int64  \n",
      " 51  BedroomAbvGr         2073 non-null   int64  \n",
      " 52  KitchenAbvGr         2073 non-null   int64  \n",
      " 53  KitchenQual          2073 non-null   object \n",
      " 54  TotRmsAbvGrd         2073 non-null   int64  \n",
      " 55  Functional           2073 non-null   object \n",
      " 56  Fireplaces           2073 non-null   int64  \n",
      " 57  FireplaceQu          1085 non-null   object \n",
      " 58  GarageType           1960 non-null   object \n",
      " 59  GarageYrBlt          1960 non-null   float64\n",
      " 60  GarageFinish         1960 non-null   object \n",
      " 61  GarageCars           2073 non-null   int64  \n",
      " 62  GarageArea           2073 non-null   int64  \n",
      " 63  GarageQual           1960 non-null   object \n",
      " 64  GarageCond           1960 non-null   object \n",
      " 65  PavedDrive           2073 non-null   object \n",
      " 66  WoodDeckSF           2073 non-null   int64  \n",
      " 67  OpenPorchSF          2073 non-null   int64  \n",
      " 68  EnclosedPorch        2073 non-null   int64  \n",
      " 69  3SsnPorch            2073 non-null   int64  \n",
      " 70  ScreenPorch          2073 non-null   int64  \n",
      " 71  PoolArea             2073 non-null   int64  \n",
      " 72  PoolQC               8 non-null      object \n",
      " 73  Fence                404 non-null    object \n",
      " 74  MiscFeature          80 non-null     object \n",
      " 75  MiscVal              2073 non-null   int64  \n",
      " 76  MoSold               2073 non-null   int64  \n",
      " 77  YrSold               2073 non-null   int64  \n",
      " 78  SaleType             2073 non-null   object \n",
      " 79  SaleCondition        2073 non-null   object \n",
      " 80  Property_Sale_Price  2073 non-null   int64  \n",
      "dtypes: float64(3), int64(35), object(43)\n",
      "memory usage: 1.3+ MB\n"
     ]
    }
   ],
   "source": [
    "#information about the features\n",
    "df.info()"
   ]
  },
  {
   "cell_type": "code",
   "execution_count": 293,
   "id": "af89914f",
   "metadata": {},
   "outputs": [],
   "source": [
    "df.drop('Id',axis=1,inplace=True)"
   ]
  },
  {
   "cell_type": "code",
   "execution_count": 294,
   "id": "48c53aab",
   "metadata": {},
   "outputs": [
    {
     "data": {
      "text/plain": [
       "<AxesSubplot:>"
      ]
     },
     "execution_count": 294,
     "metadata": {},
     "output_type": "execute_result"
    },
    {
     "data": {
      "image/png": "[encoded data removed]",
      "text/plain": [
       "<Figure size 1080x720 with 2 Axes>"
      ]
     },
     "metadata": {
      "needs_background": "light"
     },
     "output_type": "display_data"
    }
   ],
   "source": [
    "# heatmap to visualize the missing values\n",
    "plt.figure(figsize=(15,10))\n",
    "sns.heatmap(df.isna())"
   ]
  },
  {
   "cell_type": "markdown",
   "id": "18e46b77",
   "metadata": {},
   "source": [
    "### There are several missing values in many features"
   ]
  },
  {
   "cell_type": "code",
   "execution_count": 295,
   "id": "e0c50088",
   "metadata": {},
   "outputs": [
    {
     "data": {
      "text/plain": [
       "array([  60,   20,   70,   50,  190,   45,   90,  120,   30,   85,   80,\n",
       "        160,   75,  180,   40,  150,  303, 7080], dtype=int64)"
      ]
     },
     "execution_count": 295,
     "metadata": {},
     "output_type": "execute_result"
    }
   ],
   "source": [
    "df['Dwell_Type'].unique()"
   ]
  },
  {
   "cell_type": "code",
   "execution_count": 296,
   "id": "be362836",
   "metadata": {},
   "outputs": [],
   "source": [
    "df.drop(df[df.Dwell_Type ==303].index , axis=0 , inplace=True)\n",
    "df.drop(df[df.Dwell_Type ==7080].index , axis=0, inplace=True)\n",
    "# According to feature description the values 303 and 7080 are wrongly entered"
   ]
  },
  {
   "cell_type": "code",
   "execution_count": 297,
   "id": "c2f42034",
   "metadata": {},
   "outputs": [
    {
     "data": {
      "text/plain": [
       "<AxesSubplot:xlabel='Zone_Class', ylabel='count'>"
      ]
     },
     "execution_count": 297,
     "metadata": {},
     "output_type": "execute_result"
    },
    {
     "data": {
      "image/png": "[encoded data removed]",
      "text/plain": [
       "<Figure size 432x288 with 1 Axes>"
      ]
     },
     "metadata": {
      "needs_background": "light"
     },
     "output_type": "display_data"
    }
   ],
   "source": [
    "sns.countplot(df['Zone_Class'])"
   ]
  },
  {
   "cell_type": "code",
   "execution_count": 298,
   "id": "680cac2e",
   "metadata": {},
   "outputs": [
    {
     "data": {
      "text/plain": [
       "<AxesSubplot:xlabel='Road_Type', ylabel='count'>"
      ]
     },
     "execution_count": 298,
     "metadata": {},
     "output_type": "execute_result"
    },
    {
     "data": {
      "image/png": "[encoded data removed]",
      "text/plain": [
       "<Figure size 432x288 with 1 Axes>"
      ]
     },
     "metadata": {
      "needs_background": "light"
     },
     "output_type": "display_data"
    }
   ],
   "source": [
    "sns.countplot(df['Road_Type'])"
   ]
  },
  {
   "cell_type": "code",
   "execution_count": 299,
   "id": "216a69a1",
   "metadata": {},
   "outputs": [],
   "source": [
    "#the plot showws it is an imbalanced data\n",
    "df.drop('Road_Type',axis = 1,inplace=True)"
   ]
  },
  {
   "cell_type": "code",
   "execution_count": 300,
   "id": "a4e3c0e1",
   "metadata": {},
   "outputs": [
    {
     "data": {
      "text/plain": [
       "<AxesSubplot:xlabel='Property_Sale_Price', ylabel='Alley'>"
      ]
     },
     "execution_count": 300,
     "metadata": {},
     "output_type": "execute_result"
    },
    {
     "data": {
      "image/png": "[encoded data removed]",
      "text/plain": [
       "<Figure size 432x288 with 1 Axes>"
      ]
     },
     "metadata": {
      "needs_background": "light"
     },
     "output_type": "display_data"
    }
   ],
   "source": [
    "sns.barplot(y=df['Alley'] , x=df['Property_Sale_Price'],orient='h')"
   ]
  },
  {
   "cell_type": "code",
   "execution_count": 301,
   "id": "e37cfaec",
   "metadata": {},
   "outputs": [
    {
     "data": {
      "text/plain": [
       "Lvl    1852\n",
       "Bnk      92\n",
       "HLS      76\n",
       "Low      51\n",
       "Name: LandContour, dtype: int64"
      ]
     },
     "execution_count": 301,
     "metadata": {},
     "output_type": "execute_result"
    }
   ],
   "source": [
    "df['LandContour'].value_counts()"
   ]
  },
  {
   "cell_type": "code",
   "execution_count": 302,
   "id": "b500dcb4",
   "metadata": {},
   "outputs": [],
   "source": [
    "df.drop('LandContour' , axis=1 , inplace=True)"
   ]
  },
  {
   "cell_type": "code",
   "execution_count": 303,
   "id": "e5713099",
   "metadata": {},
   "outputs": [
    {
     "data": {
      "text/plain": [
       "array(['AllPub', 'NoSeWa'], dtype=object)"
      ]
     },
     "execution_count": 303,
     "metadata": {},
     "output_type": "execute_result"
    }
   ],
   "source": [
    "df.Utilities.unique()"
   ]
  },
  {
   "cell_type": "code",
   "execution_count": 304,
   "id": "13ad9774",
   "metadata": {},
   "outputs": [
    {
     "data": {
      "text/plain": [
       "AllPub    2068\n",
       "NoSeWa       3\n",
       "Name: Utilities, dtype: int64"
      ]
     },
     "execution_count": 304,
     "metadata": {},
     "output_type": "execute_result"
    }
   ],
   "source": [
    "df['Utilities'].value_counts()#imbalance data"
   ]
  },
  {
   "cell_type": "code",
   "execution_count": 305,
   "id": "49892fb5",
   "metadata": {},
   "outputs": [],
   "source": [
    "df.drop('Utilities' , axis=1 , inplace=True)"
   ]
  },
  {
   "cell_type": "code",
   "execution_count": 306,
   "id": "be723005",
   "metadata": {},
   "outputs": [
    {
     "data": {
      "text/plain": [
       "Inside     1480\n",
       "Corner      385\n",
       "CulDSac     137\n",
       "FR2          65\n",
       "FR3           4\n",
       "Name: LotConfig, dtype: int64"
      ]
     },
     "execution_count": 306,
     "metadata": {},
     "output_type": "execute_result"
    }
   ],
   "source": [
    "df.LotConfig.value_counts()"
   ]
  },
  {
   "cell_type": "code",
   "execution_count": 307,
   "id": "a42833df",
   "metadata": {},
   "outputs": [],
   "source": [
    "df['LotConfig']=df['LotConfig'].replace('FR3','FR2')"
   ]
  },
  {
   "cell_type": "code",
   "execution_count": 308,
   "id": "b03d19cf",
   "metadata": {},
   "outputs": [
    {
     "data": {
      "text/plain": [
       "<AxesSubplot:xlabel='Property_Sale_Price', ylabel='LotConfig'>"
      ]
     },
     "execution_count": 308,
     "metadata": {},
     "output_type": "execute_result"
    },
    {
     "data": {
      "image/png": "[encoded data removed]",
      "text/plain": [
       "<Figure size 432x288 with 1 Axes>"
      ]
     },
     "metadata": {
      "needs_background": "light"
     },
     "output_type": "display_data"
    }
   ],
   "source": [
    "sns.barplot(y=df['LotConfig'] , x=df['Property_Sale_Price'] ,orientation='horizontal')\n",
    "#  Inside Inside lot\n",
    "#  Corner Corner lot\n",
    "#  CulDSac Cul-de-sac\n",
    "#  FR2 Frontage on 2 sides of property\n",
    "#  FR3 Frontage on 3 sides of property"
   ]
  },
  {
   "cell_type": "code",
   "execution_count": 309,
   "id": "9384ebb4",
   "metadata": {},
   "outputs": [
    {
     "data": {
      "text/plain": [
       "Gtl    1957\n",
       "Mod     100\n",
       "Sev      14\n",
       "Name: LandSlope, dtype: int64"
      ]
     },
     "execution_count": 309,
     "metadata": {},
     "output_type": "execute_result"
    }
   ],
   "source": [
    "df.LandSlope.value_counts()"
   ]
  },
  {
   "cell_type": "code",
   "execution_count": 310,
   "id": "ed007f4a",
   "metadata": {},
   "outputs": [],
   "source": [
    "df.drop('LandSlope' , axis=1 , inplace=True)"
   ]
  },
  {
   "cell_type": "code",
   "execution_count": 311,
   "id": "deef65a8",
   "metadata": {},
   "outputs": [
    {
     "data": {
      "text/plain": [
       "Inside     1480\n",
       "Corner      385\n",
       "CulDSac     137\n",
       "FR2          69\n",
       "Name: LotConfig, dtype: int64"
      ]
     },
     "execution_count": 311,
     "metadata": {},
     "output_type": "execute_result"
    }
   ],
   "source": [
    "df['LotConfig'].value_counts()"
   ]
  },
  {
   "cell_type": "code",
   "execution_count": 312,
   "id": "07bd32c1",
   "metadata": {},
   "outputs": [
    {
     "data": {
      "text/plain": [
       "<AxesSubplot:xlabel='Neighborhood', ylabel='Property_Sale_Price'>"
      ]
     },
     "execution_count": 312,
     "metadata": {},
     "output_type": "execute_result"
    },
    {
     "data": {
      "image/png": "[encoded data removed]",
      "text/plain": [
       "<Figure size 432x288 with 1 Axes>"
      ]
     },
     "metadata": {
      "needs_background": "light"
     },
     "output_type": "display_data"
    }
   ],
   "source": [
    "sns.barplot(x=df['Neighborhood'] , y=df['Property_Sale_Price'])"
   ]
  },
  {
   "cell_type": "code",
   "execution_count": 313,
   "id": "24c3916c",
   "metadata": {},
   "outputs": [],
   "source": [
    "df.drop('Neighborhood' , axis=1 , inplace=True)"
   ]
  },
  {
   "cell_type": "markdown",
   "id": "e384d805",
   "metadata": {},
   "source": [
    "# replacing the values "
   ]
  },
  {
   "cell_type": "code",
   "execution_count": 314,
   "id": "34cdc2f7",
   "metadata": {},
   "outputs": [],
   "source": [
    "#the plot showws it is an imbalanced data\n",
    "df['LotFrontage'].replace(np.nan,df['LotFrontage'].mean(),inplace=True)\n",
    "df['Alley']=df['Alley'].replace(np.nan , 'NA')\n",
    "df['FireplaceQu'].replace(np.nan,'Na',inplace=True)\n",
    "df['Fence'].replace(np.nan,'Na',inplace=True)\n",
    "df['PoolQC'].replace(np.nan,'Na',inplace=True)\n",
    "df['Fence'].replace(np.nan,'Na',inplace=True)\n",
    "df['MiscFeature'].replace(np.nan,'Na',inplace=True)\n",
    "df['LotFrontage'].replace(np.nan,df['LotFrontage'].mean(),inplace=True)\n",
    "df['MasVnrType'].replace(np.nan,df['MasVnrType'].mode()[0],inplace=True)\n",
    "df['MasVnrArea'].replace(np.nan,df['MasVnrArea'].mode()[0],inplace=True)\n",
    "df['BsmtQual'].replace(np.nan,'Na',inplace=True)\n",
    "df['BsmtCond'].replace(np.nan,'Na',inplace=True)\n",
    "df['BsmtExposure'].replace(np.nan,'Na',inplace=True)\n",
    "df['BsmtFinType1'].replace(np.nan,'Na',inplace=True)\n",
    "df['BsmtFinType2'].replace(np.nan,df['BsmtFinType2'].mode()[0],inplace=True)\n",
    "df['Electrical'].replace(np.nan,df['Electrical'].mode()[0],inplace=True)\n",
    "df['GarageType'].replace(np.nan,'Na',inplace=True)\n",
    "df['GarageYrBlt'].replace(np.nan,df['GarageYrBlt'].mode()[0],inplace=True)\n",
    "df['GarageFinish'].replace(np.nan,'Na',inplace=True)\n",
    "df['GarageQual'].replace(np.nan,'Na',inplace=True)\n",
    "df['GarageCond'].replace(np.nan,'Na',inplace=True)"
   ]
  },
  {
   "cell_type": "code",
   "execution_count": 315,
   "id": "1863664c",
   "metadata": {},
   "outputs": [],
   "source": [
    "df['age']=2022-df.YearBuilt\n",
    "# creatin new feature called age"
   ]
  },
  {
   "cell_type": "code",
   "execution_count": 316,
   "id": "4d16d65a",
   "metadata": {},
   "outputs": [],
   "source": [
    "df.drop('YearBuilt',axis=1,inplace=True)"
   ]
  },
  {
   "cell_type": "code",
   "execution_count": 317,
   "id": "d871c3b2",
   "metadata": {},
   "outputs": [],
   "source": [
    "df['no_of_years_after_remodel']=2022-df.YearRemodAdd\n",
    "#creating a new feature called no_of_years_after_remodel"
   ]
  },
  {
   "cell_type": "code",
   "execution_count": 318,
   "id": "e9021e03",
   "metadata": {},
   "outputs": [],
   "source": [
    "df.drop('YearRemodAdd',axis=1,inplace=True)"
   ]
  },
  {
   "cell_type": "code",
   "execution_count": 319,
   "id": "ac0f568b",
   "metadata": {},
   "outputs": [
    {
     "data": {
      "text/plain": [
       "Gable      1604\n",
       "Hip         420\n",
       "Flat         19\n",
       "Gambrel      15\n",
       "Mansard      11\n",
       "Shed          2\n",
       "Name: RoofStyle, dtype: int64"
      ]
     },
     "execution_count": 319,
     "metadata": {},
     "output_type": "execute_result"
    }
   ],
   "source": [
    "df.RoofStyle.value_counts()"
   ]
  },
  {
   "cell_type": "code",
   "execution_count": 320,
   "id": "8ee49219",
   "metadata": {},
   "outputs": [
    {
     "data": {
      "text/plain": [
       "<AxesSubplot:xlabel='RoofStyle', ylabel='Property_Sale_Price'>"
      ]
     },
     "execution_count": 320,
     "metadata": {},
     "output_type": "execute_result"
    },
    {
     "data": {
      "image/png": "[encoded data removed]",
      "text/plain": [
       "<Figure size 432x288 with 1 Axes>"
      ]
     },
     "metadata": {
      "needs_background": "light"
     },
     "output_type": "display_data"
    }
   ],
   "source": [
    "sns.barplot(x=df['RoofStyle'] , y=df['Property_Sale_Price'])"
   ]
  },
  {
   "cell_type": "code",
   "execution_count": 321,
   "id": "8f6aebc0",
   "metadata": {},
   "outputs": [],
   "source": [
    "df.drop('RoofMatl',axis=1, inplace=True)"
   ]
  },
  {
   "cell_type": "code",
   "execution_count": 322,
   "id": "15d2314d",
   "metadata": {},
   "outputs": [],
   "source": [
    "# import scipy.stats as stats\n",
    "# # stats f_oneway functions takes the groups as input and returns ANOVA F and p value\n",
    "# fvalue, pvalue = stats.f_oneway(df['Exterior1st'], df['Property_Sale_Price'])\n",
    "# print(fvalue, pvalue)"
   ]
  },
  {
   "cell_type": "code",
   "execution_count": 323,
   "id": "36ac25b8",
   "metadata": {},
   "outputs": [],
   "source": [
    "df.drop('YrSold',axis=1,inplace=True)"
   ]
  },
  {
   "cell_type": "markdown",
   "id": "f0f034a6",
   "metadata": {},
   "source": [
    "# Encoding The Ordinal Data"
   ]
  },
  {
   "cell_type": "code",
   "execution_count": 324,
   "id": "1c7cce0e",
   "metadata": {},
   "outputs": [],
   "source": [
    "mapping={'TA':2,'Gd':3,'Ex':4,'Fa':1}\n",
    "df['ExterQual']=df['ExterQual'].map(mapping)"
   ]
  },
  {
   "cell_type": "code",
   "execution_count": 325,
   "id": "17886311",
   "metadata": {},
   "outputs": [],
   "source": [
    "mapping={'TA':3,'Gd':4,'Ex':5,'Fa':2,'Na':1}\n",
    "df['BsmtQual']=df['BsmtQual'].map(mapping)"
   ]
  },
  {
   "cell_type": "code",
   "execution_count": 326,
   "id": "073d16c3",
   "metadata": {},
   "outputs": [],
   "source": [
    "mapping={'TA':4,'Gd':5,'Ex':6,'Fa':3,'Po':2,'Na':1}\n",
    "df['BsmtCond']=df['BsmtCond'].map(mapping)"
   ]
  },
  {
   "cell_type": "code",
   "execution_count": 327,
   "id": "5b829674",
   "metadata": {},
   "outputs": [],
   "source": [
    "mapping={'No':2, 'Av':4, 'Gd':5, 'Mn':3, 'Na':1}\n",
    "df['BsmtExposure']=df['BsmtExposure'].map(mapping)"
   ]
  },
  {
   "cell_type": "code",
   "execution_count": 328,
   "id": "f82784b7",
   "metadata": {},
   "outputs": [],
   "source": [
    "mapping={'Unf':2, 'GLQ':7, 'ALQ':6, 'BLQ':5, 'Rec':4, 'LwQ':3, 'Na':1}\n",
    "df['BsmtFinType1']=df['BsmtFinType1'].map(mapping)"
   ]
  },
  {
   "cell_type": "code",
   "execution_count": 329,
   "id": "bbb3bf2b",
   "metadata": {},
   "outputs": [],
   "source": [
    "mapping={'Unf':2, 'GLQ':7, 'ALQ':6, 'BLQ':5, 'Rec':4, 'LwQ':3, 'Na':1}\n",
    "df['BsmtFinType2']=df['BsmtFinType2'].map(mapping)"
   ]
  },
  {
   "cell_type": "code",
   "execution_count": 330,
   "id": "95170a35",
   "metadata": {},
   "outputs": [],
   "source": [
    "mapping={'Ex':5, 'TA':3, 'Gd':4, 'Fa':2, 'Po':1}\n",
    "df['HeatingQC']=df['HeatingQC'].map(mapping)"
   ]
  },
  {
   "cell_type": "code",
   "execution_count": 331,
   "id": "ecfc0ab1",
   "metadata": {},
   "outputs": [],
   "source": [
    "mapping={'TA':2, 'Gd':3, 'Ex':4, 'Fa':1}\n",
    "df['KitchenQual']=df['KitchenQual'].map(mapping)"
   ]
  },
  {
   "cell_type": "code",
   "execution_count": 332,
   "id": "99e1b0b0",
   "metadata": {},
   "outputs": [],
   "source": [
    "mapping={'Na':1, 'Gd':5, 'TA':4, 'Fa':3, 'Ex':6, 'Po':2}\n",
    "df['FireplaceQu']=df['FireplaceQu'].map(mapping)"
   ]
  },
  {
   "cell_type": "code",
   "execution_count": 333,
   "id": "13dbd65e",
   "metadata": {},
   "outputs": [],
   "source": [
    "mapping={'Na':1, 'Gd':5, 'TA':4, 'Fa':3, 'Ex':6, 'Po':2}\n",
    "df['GarageQual']=df['GarageQual'].map(mapping)"
   ]
  },
  {
   "cell_type": "code",
   "execution_count": 334,
   "id": "3a3f42cd",
   "metadata": {},
   "outputs": [],
   "source": [
    "mapping={'Na':1, 'Gd':5, 'TA':4, 'Fa':3, 'Ex':6, 'Po':2}\n",
    "df['GarageCond']=df['GarageCond'].map(mapping)"
   ]
  },
  {
   "cell_type": "code",
   "execution_count": 335,
   "id": "61ba6af1",
   "metadata": {},
   "outputs": [],
   "source": [
    "mapping={'Gd':4, 'TA':3, 'Fa':2, 'Ex':5, 'Na':1}\n",
    "df['PoolQC']=df['PoolQC'].map(mapping)"
   ]
  },
  {
   "cell_type": "code",
   "execution_count": 336,
   "id": "56b0ae01",
   "metadata": {},
   "outputs": [],
   "source": [
    "mapping={'Na':1, 'MnPrv':4, 'GdPrv':5, 'GdWo':3, 'MnWw':2}\n",
    "df['Fence']=df['Fence'].map(mapping)"
   ]
  },
  {
   "cell_type": "code",
   "execution_count": 337,
   "id": "63b697a9",
   "metadata": {},
   "outputs": [],
   "source": [
    "mapping={'EX':5,'Gd':4,'TA':3,'Fa':2,'Po':1}\n",
    "df['ExterCond']=df['ExterCond'].map(mapping)"
   ]
  },
  {
   "cell_type": "markdown",
   "id": "a0e3bc29",
   "metadata": {},
   "source": [
    "# OneHotEncoding"
   ]
  },
  {
   "cell_type": "code",
   "execution_count": 339,
   "id": "9ceada53",
   "metadata": {},
   "outputs": [],
   "source": [
    "a=pd.get_dummies(df[['Dwelling_Type','Zone_Class','Alley','Property_Shape',\n",
    "                    'LotConfig','Condition1','Condition2','HouseStyle',\n",
    "                    'RoofStyle','Exterior1st','Exterior2nd','MasVnrType',\n",
    "                     'Foundation','Heating','CentralAir','Electrical','Functional',\n",
    "                     'GarageType','GarageFinish','PavedDrive','MiscFeature','SaleType','SaleCondition']],drop_first=True)"
   ]
  },
  {
   "cell_type": "code",
   "execution_count": 340,
   "id": "fc2d2aff",
   "metadata": {},
   "outputs": [
    {
     "data": {
      "text/html": [
       "<div>\n",
       "<style scoped>\n",
       "    .dataframe tbody tr th:only-of-type {\n",
       "        vertical-align: middle;\n",
       "    }\n",
       "\n",
       "    .dataframe tbody tr th {\n",
       "        vertical-align: top;\n",
       "    }\n",
       "\n",
       "    .dataframe thead th {\n",
       "        text-align: right;\n",
       "    }\n",
       "</style>\n",
       "<table border=\"1\" class=\"dataframe\">\n",
       "  <thead>\n",
       "    <tr style=\"text-align: right;\">\n",
       "      <th></th>\n",
       "      <th>Dwelling_Type_2fmCon</th>\n",
       "      <th>Dwelling_Type_Duplex</th>\n",
       "      <th>Dwelling_Type_Twnhs</th>\n",
       "      <th>Dwelling_Type_TwnhsE</th>\n",
       "      <th>Zone_Class_FV</th>\n",
       "      <th>Zone_Class_RH</th>\n",
       "      <th>Zone_Class_RL</th>\n",
       "      <th>Zone_Class_RM</th>\n",
       "      <th>Alley_NA</th>\n",
       "      <th>Alley_Pave</th>\n",
       "      <th>...</th>\n",
       "      <th>SaleType_ConLI</th>\n",
       "      <th>SaleType_ConLw</th>\n",
       "      <th>SaleType_New</th>\n",
       "      <th>SaleType_Oth</th>\n",
       "      <th>SaleType_WD</th>\n",
       "      <th>SaleCondition_AdjLand</th>\n",
       "      <th>SaleCondition_Alloca</th>\n",
       "      <th>SaleCondition_Family</th>\n",
       "      <th>SaleCondition_Normal</th>\n",
       "      <th>SaleCondition_Partial</th>\n",
       "    </tr>\n",
       "  </thead>\n",
       "  <tbody>\n",
       "    <tr>\n",
       "      <th>0</th>\n",
       "      <td>0</td>\n",
       "      <td>0</td>\n",
       "      <td>0</td>\n",
       "      <td>0</td>\n",
       "      <td>0</td>\n",
       "      <td>0</td>\n",
       "      <td>1</td>\n",
       "      <td>0</td>\n",
       "      <td>1</td>\n",
       "      <td>0</td>\n",
       "      <td>...</td>\n",
       "      <td>0</td>\n",
       "      <td>0</td>\n",
       "      <td>0</td>\n",
       "      <td>0</td>\n",
       "      <td>1</td>\n",
       "      <td>0</td>\n",
       "      <td>0</td>\n",
       "      <td>0</td>\n",
       "      <td>1</td>\n",
       "      <td>0</td>\n",
       "    </tr>\n",
       "    <tr>\n",
       "      <th>1</th>\n",
       "      <td>0</td>\n",
       "      <td>0</td>\n",
       "      <td>0</td>\n",
       "      <td>0</td>\n",
       "      <td>0</td>\n",
       "      <td>0</td>\n",
       "      <td>1</td>\n",
       "      <td>0</td>\n",
       "      <td>1</td>\n",
       "      <td>0</td>\n",
       "      <td>...</td>\n",
       "      <td>0</td>\n",
       "      <td>0</td>\n",
       "      <td>0</td>\n",
       "      <td>0</td>\n",
       "      <td>1</td>\n",
       "      <td>0</td>\n",
       "      <td>0</td>\n",
       "      <td>0</td>\n",
       "      <td>1</td>\n",
       "      <td>0</td>\n",
       "    </tr>\n",
       "    <tr>\n",
       "      <th>2</th>\n",
       "      <td>0</td>\n",
       "      <td>0</td>\n",
       "      <td>0</td>\n",
       "      <td>0</td>\n",
       "      <td>0</td>\n",
       "      <td>0</td>\n",
       "      <td>1</td>\n",
       "      <td>0</td>\n",
       "      <td>1</td>\n",
       "      <td>0</td>\n",
       "      <td>...</td>\n",
       "      <td>0</td>\n",
       "      <td>0</td>\n",
       "      <td>0</td>\n",
       "      <td>0</td>\n",
       "      <td>1</td>\n",
       "      <td>0</td>\n",
       "      <td>0</td>\n",
       "      <td>0</td>\n",
       "      <td>1</td>\n",
       "      <td>0</td>\n",
       "    </tr>\n",
       "    <tr>\n",
       "      <th>3</th>\n",
       "      <td>0</td>\n",
       "      <td>0</td>\n",
       "      <td>0</td>\n",
       "      <td>0</td>\n",
       "      <td>0</td>\n",
       "      <td>0</td>\n",
       "      <td>1</td>\n",
       "      <td>0</td>\n",
       "      <td>1</td>\n",
       "      <td>0</td>\n",
       "      <td>...</td>\n",
       "      <td>0</td>\n",
       "      <td>0</td>\n",
       "      <td>0</td>\n",
       "      <td>0</td>\n",
       "      <td>1</td>\n",
       "      <td>0</td>\n",
       "      <td>0</td>\n",
       "      <td>0</td>\n",
       "      <td>0</td>\n",
       "      <td>0</td>\n",
       "    </tr>\n",
       "    <tr>\n",
       "      <th>4</th>\n",
       "      <td>0</td>\n",
       "      <td>0</td>\n",
       "      <td>0</td>\n",
       "      <td>0</td>\n",
       "      <td>0</td>\n",
       "      <td>0</td>\n",
       "      <td>1</td>\n",
       "      <td>0</td>\n",
       "      <td>1</td>\n",
       "      <td>0</td>\n",
       "      <td>...</td>\n",
       "      <td>0</td>\n",
       "      <td>0</td>\n",
       "      <td>0</td>\n",
       "      <td>0</td>\n",
       "      <td>1</td>\n",
       "      <td>0</td>\n",
       "      <td>0</td>\n",
       "      <td>0</td>\n",
       "      <td>1</td>\n",
       "      <td>0</td>\n",
       "    </tr>\n",
       "    <tr>\n",
       "      <th>...</th>\n",
       "      <td>...</td>\n",
       "      <td>...</td>\n",
       "      <td>...</td>\n",
       "      <td>...</td>\n",
       "      <td>...</td>\n",
       "      <td>...</td>\n",
       "      <td>...</td>\n",
       "      <td>...</td>\n",
       "      <td>...</td>\n",
       "      <td>...</td>\n",
       "      <td>...</td>\n",
       "      <td>...</td>\n",
       "      <td>...</td>\n",
       "      <td>...</td>\n",
       "      <td>...</td>\n",
       "      <td>...</td>\n",
       "      <td>...</td>\n",
       "      <td>...</td>\n",
       "      <td>...</td>\n",
       "      <td>...</td>\n",
       "      <td>...</td>\n",
       "    </tr>\n",
       "    <tr>\n",
       "      <th>2068</th>\n",
       "      <td>0</td>\n",
       "      <td>0</td>\n",
       "      <td>0</td>\n",
       "      <td>0</td>\n",
       "      <td>0</td>\n",
       "      <td>0</td>\n",
       "      <td>1</td>\n",
       "      <td>0</td>\n",
       "      <td>1</td>\n",
       "      <td>0</td>\n",
       "      <td>...</td>\n",
       "      <td>0</td>\n",
       "      <td>0</td>\n",
       "      <td>0</td>\n",
       "      <td>0</td>\n",
       "      <td>1</td>\n",
       "      <td>0</td>\n",
       "      <td>0</td>\n",
       "      <td>0</td>\n",
       "      <td>1</td>\n",
       "      <td>0</td>\n",
       "    </tr>\n",
       "    <tr>\n",
       "      <th>2069</th>\n",
       "      <td>0</td>\n",
       "      <td>1</td>\n",
       "      <td>0</td>\n",
       "      <td>0</td>\n",
       "      <td>0</td>\n",
       "      <td>0</td>\n",
       "      <td>1</td>\n",
       "      <td>0</td>\n",
       "      <td>1</td>\n",
       "      <td>0</td>\n",
       "      <td>...</td>\n",
       "      <td>0</td>\n",
       "      <td>0</td>\n",
       "      <td>0</td>\n",
       "      <td>1</td>\n",
       "      <td>0</td>\n",
       "      <td>0</td>\n",
       "      <td>0</td>\n",
       "      <td>0</td>\n",
       "      <td>0</td>\n",
       "      <td>0</td>\n",
       "    </tr>\n",
       "    <tr>\n",
       "      <th>2070</th>\n",
       "      <td>0</td>\n",
       "      <td>1</td>\n",
       "      <td>0</td>\n",
       "      <td>0</td>\n",
       "      <td>0</td>\n",
       "      <td>0</td>\n",
       "      <td>1</td>\n",
       "      <td>0</td>\n",
       "      <td>1</td>\n",
       "      <td>0</td>\n",
       "      <td>...</td>\n",
       "      <td>0</td>\n",
       "      <td>0</td>\n",
       "      <td>0</td>\n",
       "      <td>0</td>\n",
       "      <td>1</td>\n",
       "      <td>0</td>\n",
       "      <td>0</td>\n",
       "      <td>0</td>\n",
       "      <td>1</td>\n",
       "      <td>0</td>\n",
       "    </tr>\n",
       "    <tr>\n",
       "      <th>2071</th>\n",
       "      <td>0</td>\n",
       "      <td>0</td>\n",
       "      <td>0</td>\n",
       "      <td>0</td>\n",
       "      <td>0</td>\n",
       "      <td>0</td>\n",
       "      <td>1</td>\n",
       "      <td>0</td>\n",
       "      <td>1</td>\n",
       "      <td>0</td>\n",
       "      <td>...</td>\n",
       "      <td>0</td>\n",
       "      <td>0</td>\n",
       "      <td>0</td>\n",
       "      <td>0</td>\n",
       "      <td>0</td>\n",
       "      <td>0</td>\n",
       "      <td>0</td>\n",
       "      <td>0</td>\n",
       "      <td>0</td>\n",
       "      <td>0</td>\n",
       "    </tr>\n",
       "    <tr>\n",
       "      <th>2072</th>\n",
       "      <td>0</td>\n",
       "      <td>0</td>\n",
       "      <td>0</td>\n",
       "      <td>0</td>\n",
       "      <td>0</td>\n",
       "      <td>0</td>\n",
       "      <td>0</td>\n",
       "      <td>1</td>\n",
       "      <td>1</td>\n",
       "      <td>0</td>\n",
       "      <td>...</td>\n",
       "      <td>0</td>\n",
       "      <td>0</td>\n",
       "      <td>0</td>\n",
       "      <td>0</td>\n",
       "      <td>1</td>\n",
       "      <td>0</td>\n",
       "      <td>0</td>\n",
       "      <td>0</td>\n",
       "      <td>1</td>\n",
       "      <td>0</td>\n",
       "    </tr>\n",
       "  </tbody>\n",
       "</table>\n",
       "<p>2071 rows × 124 columns</p>\n",
       "</div>"
      ],
      "text/plain": [
       "      Dwelling_Type_2fmCon  Dwelling_Type_Duplex  Dwelling_Type_Twnhs  \\\n",
       "0                        0                     0                    0   \n",
       "1                        0                     0                    0   \n",
       "2                        0                     0                    0   \n",
       "3                        0                     0                    0   \n",
       "4                        0                     0                    0   \n",
       "...                    ...                   ...                  ...   \n",
       "2068                     0                     0                    0   \n",
       "2069                     0                     1                    0   \n",
       "2070                     0                     1                    0   \n",
       "2071                     0                     0                    0   \n",
       "2072                     0                     0                    0   \n",
       "\n",
       "      Dwelling_Type_TwnhsE  Zone_Class_FV  Zone_Class_RH  Zone_Class_RL  \\\n",
       "0                        0              0              0              1   \n",
       "1                        0              0              0              1   \n",
       "2                        0              0              0              1   \n",
       "3                        0              0              0              1   \n",
       "4                        0              0              0              1   \n",
       "...                    ...            ...            ...            ...   \n",
       "2068                     0              0              0              1   \n",
       "2069                     0              0              0              1   \n",
       "2070                     0              0              0              1   \n",
       "2071                     0              0              0              1   \n",
       "2072                     0              0              0              0   \n",
       "\n",
       "      Zone_Class_RM  Alley_NA  Alley_Pave  ...  SaleType_ConLI  \\\n",
       "0                 0         1           0  ...               0   \n",
       "1                 0         1           0  ...               0   \n",
       "2                 0         1           0  ...               0   \n",
       "3                 0         1           0  ...               0   \n",
       "4                 0         1           0  ...               0   \n",
       "...             ...       ...         ...  ...             ...   \n",
       "2068              0         1           0  ...               0   \n",
       "2069              0         1           0  ...               0   \n",
       "2070              0         1           0  ...               0   \n",
       "2071              0         1           0  ...               0   \n",
       "2072              1         1           0  ...               0   \n",
       "\n",
       "      SaleType_ConLw  SaleType_New  SaleType_Oth  SaleType_WD  \\\n",
       "0                  0             0             0            1   \n",
       "1                  0             0             0            1   \n",
       "2                  0             0             0            1   \n",
       "3                  0             0             0            1   \n",
       "4                  0             0             0            1   \n",
       "...              ...           ...           ...          ...   \n",
       "2068               0             0             0            1   \n",
       "2069               0             0             1            0   \n",
       "2070               0             0             0            1   \n",
       "2071               0             0             0            0   \n",
       "2072               0             0             0            1   \n",
       "\n",
       "      SaleCondition_AdjLand  SaleCondition_Alloca  SaleCondition_Family  \\\n",
       "0                         0                     0                     0   \n",
       "1                         0                     0                     0   \n",
       "2                         0                     0                     0   \n",
       "3                         0                     0                     0   \n",
       "4                         0                     0                     0   \n",
       "...                     ...                   ...                   ...   \n",
       "2068                      0                     0                     0   \n",
       "2069                      0                     0                     0   \n",
       "2070                      0                     0                     0   \n",
       "2071                      0                     0                     0   \n",
       "2072                      0                     0                     0   \n",
       "\n",
       "      SaleCondition_Normal  SaleCondition_Partial  \n",
       "0                        1                      0  \n",
       "1                        1                      0  \n",
       "2                        1                      0  \n",
       "3                        0                      0  \n",
       "4                        1                      0  \n",
       "...                    ...                    ...  \n",
       "2068                     1                      0  \n",
       "2069                     0                      0  \n",
       "2070                     1                      0  \n",
       "2071                     0                      0  \n",
       "2072                     1                      0  \n",
       "\n",
       "[2071 rows x 124 columns]"
      ]
     },
     "execution_count": 340,
     "metadata": {},
     "output_type": "execute_result"
    }
   ],
   "source": [
    "a\n",
    "# onehot encoded data"
   ]
  },
  {
   "cell_type": "code",
   "execution_count": 341,
   "id": "016bdac5",
   "metadata": {},
   "outputs": [],
   "source": [
    "df.drop(['Dwelling_Type','Zone_Class','Alley','Property_Shape',\n",
    "                    'LotConfig','Condition1','Condition2','HouseStyle',\n",
    "                    'RoofStyle','Exterior1st','Exterior2nd','MasVnrType',\n",
    "                     'Foundation','Heating','CentralAir','Electrical','Functional',\n",
    "                     'GarageType','GarageFinish','PavedDrive','MiscFeature','SaleType','SaleCondition'],axis=1,inplace=True)"
   ]
  },
  {
   "cell_type": "code",
   "execution_count": 342,
   "id": "520868cc",
   "metadata": {},
   "outputs": [],
   "source": [
    "df=pd.concat([df,a],axis=1)"
   ]
  },
  {
   "cell_type": "code",
   "execution_count": 343,
   "id": "9e39a1b3",
   "metadata": {},
   "outputs": [
    {
     "data": {
      "text/plain": [
       "(2071, 174)"
      ]
     },
     "execution_count": 343,
     "metadata": {},
     "output_type": "execute_result"
    }
   ],
   "source": [
    "df.shape"
   ]
  },
  {
   "cell_type": "markdown",
   "id": "32c0e425",
   "metadata": {},
   "source": [
    "# Model"
   ]
  },
  {
   "cell_type": "code",
   "execution_count": 344,
   "id": "a8ca7c8a",
   "metadata": {},
   "outputs": [],
   "source": [
    "a=df['ExterCond'].mode()[0]\n",
    "df['ExterCond']=df['ExterCond'].replace(np.nan ,a )"
   ]
  },
  {
   "cell_type": "code",
   "execution_count": 345,
   "id": "0187ea0c",
   "metadata": {},
   "outputs": [],
   "source": [
    "#Apply the linear Regression\n",
    "# X and Y\n",
    "x=df.drop('Property_Sale_Price',axis=1)\n",
    "y=df['Property_Sale_Price']"
   ]
  },
  {
   "cell_type": "code",
   "execution_count": 346,
   "id": "364e82e6",
   "metadata": {},
   "outputs": [],
   "source": [
    "#train and test data\n",
    "x_train ,x_test ,  y_train , y_test =train_test_split(x,y,test_size=0.3,random_state=0)"
   ]
  },
  {
   "cell_type": "markdown",
   "id": "76fe81ec",
   "metadata": {},
   "source": [
    "# Linear Regression"
   ]
  },
  {
   "cell_type": "code",
   "execution_count": 378,
   "id": "b9faca38",
   "metadata": {},
   "outputs": [],
   "source": [
    "#model \n",
    "model=LinearRegression()"
   ]
  },
  {
   "cell_type": "code",
   "execution_count": 379,
   "id": "f094cca0",
   "metadata": {},
   "outputs": [
    {
     "data": {
      "text/plain": [
       "LinearRegression()"
      ]
     },
     "execution_count": 379,
     "metadata": {},
     "output_type": "execute_result"
    }
   ],
   "source": [
    "#model\n",
    "model.fit(x_train,y_train)"
   ]
  },
  {
   "cell_type": "code",
   "execution_count": 380,
   "id": "ee70b3b6",
   "metadata": {},
   "outputs": [
    {
     "data": {
      "text/plain": [
       "0.8821313539419977"
      ]
     },
     "execution_count": 380,
     "metadata": {},
     "output_type": "execute_result"
    }
   ],
   "source": [
    "model.score(x_train,y_train)"
   ]
  },
  {
   "cell_type": "code",
   "execution_count": 381,
   "id": "24833c80",
   "metadata": {},
   "outputs": [
    {
     "data": {
      "text/plain": [
       "0.7265857016357224"
      ]
     },
     "execution_count": 381,
     "metadata": {},
     "output_type": "execute_result"
    }
   ],
   "source": [
    "model.score(x_test,y_test)"
   ]
  },
  {
   "cell_type": "markdown",
   "id": "d71ca37b",
   "metadata": {},
   "source": [
    "# SGD"
   ]
  },
  {
   "cell_type": "code",
   "execution_count": 351,
   "id": "6d597982",
   "metadata": {},
   "outputs": [],
   "source": [
    "from sklearn.linear_model import SGDRegressor"
   ]
  },
  {
   "cell_type": "code",
   "execution_count": 352,
   "id": "c43d28a7",
   "metadata": {},
   "outputs": [],
   "source": [
    "sgd = SGDRegressor(loss = \"squared_loss\", alpha = 0.1, max_iter = 1000)"
   ]
  },
  {
   "cell_type": "code",
   "execution_count": 353,
   "id": "17847e9d",
   "metadata": {},
   "outputs": [
    {
     "data": {
      "text/plain": [
       "SGDRegressor(alpha=0.1)"
      ]
     },
     "execution_count": 353,
     "metadata": {},
     "output_type": "execute_result"
    }
   ],
   "source": [
    "sgd.fit(x_train, y_train)"
   ]
  },
  {
   "cell_type": "code",
   "execution_count": 354,
   "id": "77e2fa47",
   "metadata": {},
   "outputs": [
    {
     "data": {
      "text/plain": [
       "-2.176834665609807e+25"
      ]
     },
     "execution_count": 354,
     "metadata": {},
     "output_type": "execute_result"
    }
   ],
   "source": [
    "sgd.score(x_train,y_train)"
   ]
  },
  {
   "cell_type": "code",
   "execution_count": 355,
   "id": "9aa1f2ae",
   "metadata": {},
   "outputs": [
    {
     "data": {
      "text/plain": [
       "-2.7388859378224204e+25"
      ]
     },
     "execution_count": 355,
     "metadata": {},
     "output_type": "execute_result"
    }
   ],
   "source": [
    "sgd.score(x_test,y_test)"
   ]
  },
  {
   "cell_type": "markdown",
   "id": "2a01d2b0",
   "metadata": {},
   "source": [
    "# Robust Scalar"
   ]
  },
  {
   "cell_type": "code",
   "execution_count": 356,
   "id": "68e09ed6",
   "metadata": {},
   "outputs": [],
   "source": [
    "from sklearn.preprocessing import RobustScaler\n",
    "scalar = RobustScaler()\n",
    "train_scalar=scalar.fit_transform(x_train)\n",
    "test_scalar=scalar.transform(x_test)"
   ]
  },
  {
   "cell_type": "code",
   "execution_count": 357,
   "id": "cbe071e9",
   "metadata": {},
   "outputs": [
    {
     "data": {
      "text/plain": [
       "LinearRegression()"
      ]
     },
     "execution_count": 357,
     "metadata": {},
     "output_type": "execute_result"
    }
   ],
   "source": [
    "model.fit(train_scalar,y_train)"
   ]
  },
  {
   "cell_type": "code",
   "execution_count": 358,
   "id": "6ee25f9f",
   "metadata": {},
   "outputs": [
    {
     "data": {
      "text/plain": [
       "0.8821313539419977"
      ]
     },
     "execution_count": 358,
     "metadata": {},
     "output_type": "execute_result"
    }
   ],
   "source": [
    "model.score(train_scalar,y_train)"
   ]
  },
  {
   "cell_type": "code",
   "execution_count": 359,
   "id": "c4ae9fed",
   "metadata": {},
   "outputs": [
    {
     "data": {
      "text/plain": [
       "0.7265857016354715"
      ]
     },
     "execution_count": 359,
     "metadata": {},
     "output_type": "execute_result"
    }
   ],
   "source": [
    "model.score(test_scalar,y_test)"
   ]
  },
  {
   "cell_type": "markdown",
   "id": "615b6137",
   "metadata": {},
   "source": [
    "# Standard Scalar"
   ]
  },
  {
   "cell_type": "code",
   "execution_count": 360,
   "id": "8583a42f",
   "metadata": {},
   "outputs": [],
   "source": [
    "from sklearn.preprocessing import StandardScaler\n",
    "scalar = StandardScaler()\n",
    "train_scalar1=scalar.fit_transform(x_train)\n",
    "test_scalar1=scalar.transform(x_test)"
   ]
  },
  {
   "cell_type": "code",
   "execution_count": 361,
   "id": "938975b8",
   "metadata": {},
   "outputs": [
    {
     "data": {
      "text/plain": [
       "0.8820007141847614"
      ]
     },
     "execution_count": 361,
     "metadata": {},
     "output_type": "execute_result"
    }
   ],
   "source": [
    "model.fit(train_scalar1,y_train)\n",
    "model.score(train_scalar1,y_train)"
   ]
  },
  {
   "cell_type": "code",
   "execution_count": 362,
   "id": "b03da365",
   "metadata": {},
   "outputs": [
    {
     "data": {
      "text/plain": [
       "-5.1387508490082e+16"
      ]
     },
     "execution_count": 362,
     "metadata": {},
     "output_type": "execute_result"
    }
   ],
   "source": [
    "model.score(test_scalar1,y_test)"
   ]
  },
  {
   "cell_type": "markdown",
   "id": "d5fec342",
   "metadata": {},
   "source": [
    "# Decison Tree"
   ]
  },
  {
   "cell_type": "code",
   "execution_count": 363,
   "id": "8fbc62f7",
   "metadata": {},
   "outputs": [],
   "source": [
    "from sklearn.tree import DecisionTreeRegressor\n",
    "from sklearn.tree import DecisionTreeClassifier"
   ]
  },
  {
   "cell_type": "code",
   "execution_count": 364,
   "id": "576b5be8",
   "metadata": {},
   "outputs": [
    {
     "data": {
      "text/plain": [
       "DecisionTreeClassifier(random_state=0)"
      ]
     },
     "execution_count": 364,
     "metadata": {},
     "output_type": "execute_result"
    }
   ],
   "source": [
    "dTree=DecisionTreeClassifier(criterion= 'gini',random_state=0)\n",
    "dTree.fit(x_train , y_train)"
   ]
  },
  {
   "cell_type": "code",
   "execution_count": 365,
   "id": "149b53c6",
   "metadata": {},
   "outputs": [
    {
     "data": {
      "text/plain": [
       "1.0"
      ]
     },
     "execution_count": 365,
     "metadata": {},
     "output_type": "execute_result"
    }
   ],
   "source": [
    "dTree.score(x_train , y_train)"
   ]
  },
  {
   "cell_type": "code",
   "execution_count": 366,
   "id": "bd7e16c2",
   "metadata": {},
   "outputs": [
    {
     "data": {
      "text/plain": [
       "0.3054662379421222"
      ]
     },
     "execution_count": 366,
     "metadata": {},
     "output_type": "execute_result"
    }
   ],
   "source": [
    "dTree.score(x_test , y_test)"
   ]
  },
  {
   "cell_type": "markdown",
   "id": "2dcbd2e8",
   "metadata": {},
   "source": [
    "# RandomForest"
   ]
  },
  {
   "cell_type": "code",
   "execution_count": 367,
   "id": "bc61f031",
   "metadata": {},
   "outputs": [
    {
     "name": "stderr",
     "output_type": "stream",
     "text": [
      "[Parallel(n_jobs=-1)]: Using backend ThreadingBackend with 12 concurrent workers.\n",
      "[Parallel(n_jobs=-1)]: Done  26 tasks      | elapsed:    0.1s\n",
      "[Parallel(n_jobs=-1)]: Done 176 tasks      | elapsed:    1.0s\n",
      "[Parallel(n_jobs=-1)]: Done 426 tasks      | elapsed:    2.9s\n",
      "[Parallel(n_jobs=-1)]: Done 500 out of 500 | elapsed:    3.4s finished\n",
      "[Parallel(n_jobs=12)]: Using backend ThreadingBackend with 12 concurrent workers.\n",
      "[Parallel(n_jobs=12)]: Done  26 tasks      | elapsed:    0.0s\n",
      "[Parallel(n_jobs=12)]: Done 176 tasks      | elapsed:    0.2s\n",
      "[Parallel(n_jobs=12)]: Done 426 tasks      | elapsed:    0.5s\n",
      "[Parallel(n_jobs=12)]: Done 500 out of 500 | elapsed:    0.6s finished\n"
     ]
    },
    {
     "data": {
      "text/plain": [
       "98.25844317840553"
      ]
     },
     "execution_count": 367,
     "metadata": {},
     "output_type": "execute_result"
    }
   ],
   "source": [
    "from sklearn.ensemble import RandomForestRegressor\n",
    "rf = RandomForestRegressor(n_estimators=500,\n",
    "                               max_depth=13,\n",
    "                               random_state=0, \n",
    "                               max_features = 'sqrt',\n",
    "                               n_jobs=-1, verbose = 1)\n",
    "rf.fit(x_train, y_train)\n",
    "#Train data\n",
    "rf.score(x_train,y_train)*100\n"
   ]
  },
  {
   "cell_type": "code",
   "execution_count": 368,
   "id": "4915a214",
   "metadata": {},
   "outputs": [
    {
     "name": "stderr",
     "output_type": "stream",
     "text": [
      "[Parallel(n_jobs=12)]: Using backend ThreadingBackend with 12 concurrent workers.\n",
      "[Parallel(n_jobs=12)]: Done  26 tasks      | elapsed:    0.0s\n",
      "[Parallel(n_jobs=12)]: Done 176 tasks      | elapsed:    0.2s\n",
      "[Parallel(n_jobs=12)]: Done 426 tasks      | elapsed:    0.5s\n",
      "[Parallel(n_jobs=12)]: Done 500 out of 500 | elapsed:    0.6s finished\n"
     ]
    },
    {
     "data": {
      "text/plain": [
       "91.10204329942889"
      ]
     },
     "execution_count": 368,
     "metadata": {},
     "output_type": "execute_result"
    }
   ],
   "source": [
    "rf.score(x_test,y_test)*100"
   ]
  },
  {
   "cell_type": "code",
   "execution_count": 369,
   "id": "db32bd21",
   "metadata": {},
   "outputs": [
    {
     "name": "stdout",
     "output_type": "stream",
     "text": [
      "Requirement already satisfied: xgboost in c:\\users\\ajaya\\anaconda3\\lib\\site-packages (1.5.2)\n",
      "Requirement already satisfied: scipy in c:\\users\\ajaya\\anaconda3\\lib\\site-packages (from xgboost) (1.7.1)\n",
      "Requirement already satisfied: numpy in c:\\users\\ajaya\\anaconda3\\lib\\site-packages (from xgboost) (1.20.3)\n",
      "Note: you may need to restart the kernel to use updated packages.\n"
     ]
    }
   ],
   "source": [
    "pip install xgboost\n"
   ]
  },
  {
   "cell_type": "markdown",
   "id": "6e7b71ba",
   "metadata": {},
   "source": [
    "# xgboost"
   ]
  },
  {
   "cell_type": "code",
   "execution_count": 370,
   "id": "ef3a3708",
   "metadata": {},
   "outputs": [
    {
     "data": {
      "text/plain": [
       "99.951681998891"
      ]
     },
     "execution_count": 370,
     "metadata": {},
     "output_type": "execute_result"
    }
   ],
   "source": [
    "import xgboost as xgb\n",
    "model_2 = xgb.XGBRegressor()\n",
    "model_2.fit(x_train,y_train)\n",
    "model_2.score(x_train,y_train)*100"
   ]
  },
  {
   "cell_type": "code",
   "execution_count": 371,
   "id": "f19d25e1",
   "metadata": {},
   "outputs": [
    {
     "data": {
      "text/plain": [
       "91.71384320637664"
      ]
     },
     "execution_count": 371,
     "metadata": {},
     "output_type": "execute_result"
    }
   ],
   "source": [
    "model_2.score(x_test,y_test)*100"
   ]
  },
  {
   "cell_type": "markdown",
   "id": "c1083966",
   "metadata": {},
   "source": [
    "# PCA"
   ]
  },
  {
   "cell_type": "code",
   "execution_count": 372,
   "id": "84c738a6",
   "metadata": {},
   "outputs": [],
   "source": [
    "### step1 => scale the data using satndard scalar"
   ]
  },
  {
   "cell_type": "code",
   "execution_count": 373,
   "id": "cd6e2e74",
   "metadata": {},
   "outputs": [],
   "source": [
    "from sklearn.preprocessing import StandardScaler\n",
    "scalar = StandardScaler()\n",
    "train2=scalar.fit_transform(x_train)\n",
    "test2=scalar.transform(x_test)"
   ]
  },
  {
   "cell_type": "code",
   "execution_count": 374,
   "id": "fba92388",
   "metadata": {},
   "outputs": [],
   "source": [
    "### step =>covariance matrix"
   ]
  },
  {
   "cell_type": "code",
   "execution_count": 375,
   "id": "32a3d629",
   "metadata": {},
   "outputs": [
    {
     "name": "stdout",
     "output_type": "stream",
     "text": [
      "Covariance Matrix \n",
      "%s [[ 1.00069061 -0.26355625 -0.10518017 ...  0.0043551   0.0347529\n",
      "  -0.04329201]\n",
      " [-0.26355625  1.00069061  0.26834918 ... -0.00885075 -0.03333987\n",
      "   0.09209048]\n",
      " [-0.10518017  0.26834918  1.00069061 ... -0.01741769  0.00800352\n",
      "   0.04470815]\n",
      " ...\n",
      " [ 0.0043551  -0.00885075 -0.01741769 ...  1.00069061 -0.21236548\n",
      "  -0.0291576 ]\n",
      " [ 0.0347529  -0.03333987  0.00800352 ... -0.21236548  1.00069061\n",
      "  -0.63424897]\n",
      " [-0.04329201  0.09209048  0.04470815 ... -0.0291576  -0.63424897\n",
      "   1.00069061]]\n",
      "Eigenvectors \n",
      "[[ 0.01229418  0.15162251  0.02582154 ...  0.          0.\n",
      "   0.        ]\n",
      " [-0.06747695 -0.03859795 -0.13767764 ...  0.          0.\n",
      "   0.        ]\n",
      " [-0.03816162 -0.05060147 -0.11905043 ...  0.          0.\n",
      "   0.        ]\n",
      " ...\n",
      " [ 0.00573635 -0.0085634  -0.01447693 ...  0.          0.\n",
      "   0.        ]\n",
      " [ 0.05552742 -0.07211237 -0.08521    ...  0.          0.\n",
      "   0.        ]\n",
      " [-0.11702519  0.09713779  0.09585761 ...  0.          0.\n",
      "   0.        ]]\n",
      "\n",
      "Eigenvalues \n",
      "[ 1.42333902e+01  6.14521570e+00  5.13107712e+00  4.71102072e+00\n",
      "  4.18333655e+00  3.75168124e+00  3.38656031e+00  3.01793378e+00\n",
      "  2.80860574e+00  2.63934759e+00  2.58163670e+00  2.43752780e+00\n",
      "  2.36998903e+00  2.28008662e+00  2.18304892e+00  2.15046403e+00\n",
      "  2.13077468e+00  2.05924296e+00  2.05677055e+00  2.02127247e+00\n",
      "  1.98018487e+00  1.95114045e+00  1.88135807e+00  1.83140903e+00\n",
      "  1.77714345e+00  1.73843508e+00  1.71373421e+00  1.67995529e+00\n",
      "  1.58077903e+00  1.56659261e+00  1.53390312e+00  1.50064035e+00\n",
      "  1.49743618e+00  1.45704068e+00  1.43114489e+00  1.42312252e+00\n",
      "  1.39620954e+00  1.36823195e+00  1.34141029e+00  1.32195849e+00\n",
      "  1.29665439e+00  1.27933183e+00  1.22167979e+00  1.24681060e+00\n",
      "  1.25897844e+00  1.21448448e+00  1.19880482e+00  1.16941863e+00\n",
      "  1.15594614e+00  1.14420338e+00  1.12188110e+00  1.10850792e+00\n",
      "  1.11336567e+00  1.05668648e+00  1.06983101e+00  1.07319811e+00\n",
      "  1.03835505e+00  1.02428972e+00  1.01456960e+00  9.96012679e-01\n",
      "  1.01111939e+00  9.85452524e-01  9.81125237e-01  9.65223398e-01\n",
      "  8.63283983e-01  8.63607972e-01  8.97108547e-01  8.95416477e-01\n",
      "  9.13053391e-01  9.25696306e-01  9.28470143e-01  8.44442175e-01\n",
      "  7.71802416e-01  8.29570346e-01  8.10689836e-01  8.08580216e-01\n",
      "  8.06971118e-01  7.52066267e-01  7.47912683e-01  7.39724565e-01\n",
      "  7.30627450e-01  7.02768692e-01  7.21093193e-01  7.14395439e-01\n",
      "  6.86515003e-01  6.74690365e-01  6.68685041e-01  5.63002799e-01\n",
      "  5.66404054e-01  5.90048326e-01  6.04491775e-01  6.30455475e-01\n",
      "  6.27206984e-01  6.48303000e-01  5.47686206e-01  5.42385794e-01\n",
      "  5.28283866e-01  5.21111689e-01  5.07769521e-01  4.82741293e-01\n",
      "  4.92691983e-01  4.99893333e-01  4.40598819e-01  4.62029038e-01\n",
      "  4.65608385e-01  4.74438806e-01  4.25191754e-01  3.97437583e-01\n",
      "  3.77366318e-01  3.51211523e-01  3.42071933e-01  3.34108301e-01\n",
      "  7.69877343e-02  8.07463383e-02  6.74234223e-02  6.41938650e-02\n",
      "  4.51025383e-02  4.64002725e-02  5.12936640e-02  3.11419615e-01\n",
      "  2.97326591e-01  8.91852314e-02  1.11914384e-01  9.51658172e-02\n",
      "  9.58857768e-02  3.53889019e-02  5.88067211e-04  2.04111840e-03\n",
      "  4.98778794e-03  3.16719958e-02  7.49797814e-03  8.30937945e-03\n",
      "  4.15552478e-01  1.27972037e-01  3.21402958e-01  2.87677059e-01\n",
      "  2.74545981e-01  2.72050143e-01  1.49268054e-01  1.45810482e-01\n",
      "  1.28064903e-02  2.49359746e-01  2.17519608e-01  2.02467234e-01\n",
      "  1.97533647e-01  1.67777803e-01  1.64339238e-01  1.33697904e-01\n",
      "  1.38773136e-01  2.38400684e-02  1.29972508e-02  1.66877299e-02\n",
      "  1.45651163e-02  4.14474849e-01  2.27419294e-01  2.35185973e-01\n",
      "  1.78505294e-01  2.29272713e-01  2.15190734e-02  2.12280971e-02\n",
      "  1.95184786e-02  1.85411589e-01  1.82416027e-01  2.55738122e-01\n",
      "  3.59395223e-01 -1.05659951e-15  8.23637660e-16  5.29946755e-17\n",
      " -2.60288319e-17  0.00000000e+00  0.00000000e+00  0.00000000e+00\n",
      "  0.00000000e+00]\n"
     ]
    }
   ],
   "source": [
    "# generating the covariance matrix and the eigen values for the PCA analysis\n",
    "cov_matrix = np.cov(train2.T) # the relevanat covariance matrix\n",
    "print('Covariance Matrix \\n%s', cov_matrix)\n",
    "\n",
    "#generating the eigen values and the eigen vectors\n",
    "e_vals, e_vecs = np.linalg.eig(cov_matrix)\n",
    "print('Eigenvectors \\n%s' %e_vecs)\n",
    "print('\\nEigenvalues \\n%s' %e_vals)"
   ]
  },
  {
   "cell_type": "code",
   "execution_count": 376,
   "id": "9f5f0b97",
   "metadata": {},
   "outputs": [
    {
     "name": "stdout",
     "output_type": "stream",
     "text": [
      "Cumulative Variance Explained [  8.41631199  12.05002482  15.0840698   17.86973222  20.34337098\n",
      "  22.56176866  24.56426756  26.34879479  28.00954474  29.57021107\n",
      "  31.09675251  32.53808126  33.93947382  35.2877064   36.57855986\n",
      "  37.85014561  39.11008891  40.32773495  41.54391904  42.73911284\n",
      "  43.91001123  45.06373544  46.17619679  47.2591229   48.30996135\n",
      "  49.33791125  50.35125534  51.3446257   52.27935238  53.20569051\n",
      "  54.11269911  55.00003917  55.88548459  56.74704384  57.5932907\n",
      "  58.43479389  59.26038322  60.06942919  60.86261531  61.64429943\n",
      "  62.41102105  63.1674997   63.91194324  64.64919184  65.3715804\n",
      "  66.08971432  66.79857673  67.49006287  68.17358263  68.8501588\n",
      "  69.51353563  70.17187723  70.82734641  71.46193662  72.09453585\n",
      "  72.71936261  73.33334986  73.93902017  74.5389429   75.1368255\n",
      "  75.72577538  76.30848096  76.88862778  77.45937173  78.00838319\n",
      "  78.55575447  79.09564989  79.62611701  80.15558359  80.66624156\n",
      "  81.17670795  81.67603304  82.1665643   82.64593137  83.12405101\n",
      "  83.60121918  84.05759183  84.50229434  84.9445408   85.38194557\n",
      "  85.81397114  86.24035904  86.6627865   87.07833898  87.48428053\n",
      "  87.88323008  88.27862864  88.66197514  89.03476826  89.40564053\n",
      "  89.76308112  90.11198118  90.44690021  90.77980806  91.10365908\n",
      "  91.42437593  91.7367542   92.04489151  92.3451395   92.64073023\n",
      "  92.93206275  93.21751136  93.49805063  93.77336842  94.04656971\n",
      "  94.30709914  94.55851826  94.80423761  95.04931974  95.28432761\n",
      "  95.50746719  95.71998032  95.92765437  96.12992411  96.32748489\n",
      "  96.51753291  96.7016777   96.87748917  97.04759481  97.20993594\n",
      "  97.37080126  97.52202116  97.66946948  97.80853673  97.94410743\n",
      "  98.07858219  98.20720319  98.32692361  98.44372676  98.55336205\n",
      "  98.66122603  98.76677757  98.86598586  98.96316091  99.05142424\n",
      "  99.13764309  99.2197007   99.29875729  99.37442813  99.44060396\n",
      "  99.49730195  99.55357422  99.60631013  99.65405605  99.69957949\n",
      "  99.73944747  99.77740579  99.80773613  99.83517296  99.86184243\n",
      "  99.88276816  99.90149605  99.91559287  99.92831726  99.9408696\n",
      "  99.95241102  99.9622786   99.97089107  99.97857644  99.98614901\n",
      "  99.99106241  99.99549603  99.99844534  99.99965227 100.\n",
      " 100.         100.         100.         100.         100.\n",
      " 100.         100.         100.        ]\n"
     ]
    }
   ],
   "source": [
    "# the \"cumulative variance explained\" analysis \n",
    "tot = sum(e_vals)\n",
    "var_exp = [( i /tot ) * 100 for i in sorted(e_vals, reverse=True)]\n",
    "cum_var_exp = np.cumsum(var_exp)\n",
    "print(\"Cumulative Variance Explained\", cum_var_exp)"
   ]
  },
  {
   "cell_type": "code",
   "execution_count": 377,
   "id": "f75cb74a",
   "metadata": {},
   "outputs": [
    {
     "data": {
      "image/png": "[encoded data removed]",
      "text/plain": [
       "<Figure size 720x360 with 1 Axes>"
      ]
     },
     "metadata": {
      "needs_background": "light"
     },
     "output_type": "display_data"
    }
   ],
   "source": [
    "# Plotting the variance expalained by the principal components and the cumulative variance explained.\n",
    "plt.figure(figsize=(10 , 5))\n",
    "plt.bar(range(1, e_vals.size + 1), var_exp, alpha = 0.5, align = 'center', label = 'Individual explained variance')\n",
    "plt.step(range(1, e_vals.size + 1), cum_var_exp, where='mid', label = 'Cumulative explained variance')\n",
    "plt.ylabel('Explained Variance Ratio')\n",
    "plt.xlabel('Principal Components')\n",
    "plt.legend(loc = 'best')\n",
    "plt.tight_layout()\n",
    "plt.show()"
   ]
  },
  {
   "cell_type": "markdown",
   "id": "087c8ac2",
   "metadata": {},
   "source": [
    "# each principal component is the dot product of its weights "
   ]
  },
  {
   "cell_type": "code",
   "execution_count": null,
   "id": "a1fbf895",
   "metadata": {},
   "outputs": [],
   "source": []
  }
 ],
 "metadata": {
  "kernelspec": {
   "display_name": "Python 3 (ipykernel)",
   "language": "python",
   "name": "python3"
  },
  "language_info": {
   "codemirror_mode": {
    "name": "ipython",
    "version": 3
   },
   "file_extension": ".py",
   "mimetype": "text/x-python",
   "name": "python",
   "nbconvert_exporter": "python",
   "pygments_lexer": "ipython3",
   "version": "3.9.7"
  }
 },
 "nbformat": 4,
 "nbformat_minor": 5
}
